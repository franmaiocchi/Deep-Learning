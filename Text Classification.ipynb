{
 "cells": [
  {
   "cell_type": "markdown",
   "metadata": {},
   "source": [
    "#### Deep Learning\n",
    "\n",
    "# Basic Classification\n",
    "#### Francisco Maiocchi\n",
    "\n",
    "***\n",
    "### Introducción\n",
    "\n",
    "Este ejemplo utiliza redes neuronales para clasificar reseñas de películas como positivas o negativas. Es un ejemplo de clasificación binaria. Se utiliza un dataset de IMDB que contiene 50000 reseñas de Internet Movie Databese. Esta dividido en 25000 reseñas para entrenamiento y 25000 para test. Ambos sets estan balanceados, esto quiere decir que contienen igual cantidad de reseñas positivas que negativas. Utiliza KERAS que es la API de alto nivel de TensorFlow. Este ejemplo está en web oficial de TensorFlow en https://www.tensorflow.org/tutorials/keras/basic_text_classification?hl=es  \n",
    "\n",
    "***\n",
    "### Imports"
   ]
  },
  {
   "cell_type": "code",
   "execution_count": 14,
   "metadata": {},
   "outputs": [
    {
     "name": "stdout",
     "output_type": "stream",
     "text": [
      "1.12.0\n"
     ]
    }
   ],
   "source": [
    "# Importo TensorFlow como tf\n",
    "import tensorflow as tf\n",
    "# Importo keras\n",
    "from tensorflow import keras\n",
    "\n",
    "# Librerias auxiliares\n",
    "import numpy as np\n",
    "import matplotlib.pyplot as plt\n",
    "\n",
    "print(tf.__version__)"
   ]
  },
  {
   "cell_type": "markdown",
   "metadata": {},
   "source": [
    "***\n",
    "### Descargo el dataset de IMDB desde TensorFlow\n",
    "Este dataset ya ha sido preprocesado de manera que cada review (secuencia de palabras) fue convertida en secuencia de números enteros, donde cada uno representa una palabra especifica en el diccionario."
   ]
  },
  {
   "cell_type": "code",
   "execution_count": 2,
   "metadata": {},
   "outputs": [
    {
     "name": "stdout",
     "output_type": "stream",
     "text": [
      "Downloading data from https://storage.googleapis.com/tensorflow/tf-keras-datasets/imdb.npz\n",
      "17465344/17464789 [==============================] - 7s 0us/step\n"
     ]
    }
   ],
   "source": [
    "imdb = keras.datasets.imdb\n",
    "\n",
    "(train_data, train_labels), (test_data, test_labels) = imdb.load_data(num_words=10000)"
   ]
  },
  {
   "cell_type": "markdown",
   "metadata": {},
   "source": [
    "El argumento num_words=10000 se queda solo con las 10000 palabras más frecuentes para que el tamaño de los datos sea manejable.\n",
    "\n",
    "***\n",
    "### Exploremos un poco el dataset\n",
    "Cada ejemplo es un array de numeros enteros que representan palabras de una reseña. Cada label es un entero que con valor 0 (negativo) o 1 (positivo)."
   ]
  },
  {
   "cell_type": "code",
   "execution_count": 3,
   "metadata": {},
   "outputs": [
    {
     "name": "stdout",
     "output_type": "stream",
     "text": [
      "Training entries: 25000, labels: 25000\n"
     ]
    }
   ],
   "source": [
    "print(\"Training entries: {}, labels: {}\".format(len(train_data), len(train_labels)))"
   ]
  },
  {
   "cell_type": "markdown",
   "metadata": {},
   "source": [
    "Miremos como se ve la primer reseña:"
   ]
  },
  {
   "cell_type": "code",
   "execution_count": 4,
   "metadata": {},
   "outputs": [
    {
     "name": "stdout",
     "output_type": "stream",
     "text": [
      "[1, 14, 22, 16, 43, 530, 973, 1622, 1385, 65, 458, 4468, 66, 3941, 4, 173, 36, 256, 5, 25, 100, 43, 838, 112, 50, 670, 2, 9, 35, 480, 284, 5, 150, 4, 172, 112, 167, 2, 336, 385, 39, 4, 172, 4536, 1111, 17, 546, 38, 13, 447, 4, 192, 50, 16, 6, 147, 2025, 19, 14, 22, 4, 1920, 4613, 469, 4, 22, 71, 87, 12, 16, 43, 530, 38, 76, 15, 13, 1247, 4, 22, 17, 515, 17, 12, 16, 626, 18, 2, 5, 62, 386, 12, 8, 316, 8, 106, 5, 4, 2223, 5244, 16, 480, 66, 3785, 33, 4, 130, 12, 16, 38, 619, 5, 25, 124, 51, 36, 135, 48, 25, 1415, 33, 6, 22, 12, 215, 28, 77, 52, 5, 14, 407, 16, 82, 2, 8, 4, 107, 117, 5952, 15, 256, 4, 2, 7, 3766, 5, 723, 36, 71, 43, 530, 476, 26, 400, 317, 46, 7, 4, 2, 1029, 13, 104, 88, 4, 381, 15, 297, 98, 32, 2071, 56, 26, 141, 6, 194, 7486, 18, 4, 226, 22, 21, 134, 476, 26, 480, 5, 144, 30, 5535, 18, 51, 36, 28, 224, 92, 25, 104, 4, 226, 65, 16, 38, 1334, 88, 12, 16, 283, 5, 16, 4472, 113, 103, 32, 15, 16, 5345, 19, 178, 32]\n"
     ]
    }
   ],
   "source": [
    "print(train_data[0])"
   ]
  },
  {
   "cell_type": "markdown",
   "metadata": {},
   "source": [
    "#### Convertir los números a palabras\n",
    "Vamos a crear una función encargada de esta tarea."
   ]
  },
  {
   "cell_type": "code",
   "execution_count": 5,
   "metadata": {},
   "outputs": [
    {
     "name": "stdout",
     "output_type": "stream",
     "text": [
      "Downloading data from https://storage.googleapis.com/tensorflow/tf-keras-datasets/imdb_word_index.json\n",
      "1646592/1641221 [==============================] - 0s 0us/step\n"
     ]
    }
   ],
   "source": [
    "# A dictionary mapping words to an integer index\n",
    "word_index = imdb.get_word_index()\n",
    "\n",
    "# The first indices are reserved\n",
    "word_index = {k:(v+3) for k,v in word_index.items()} \n",
    "word_index[\"<PAD>\"] = 0\n",
    "word_index[\"<START>\"] = 1\n",
    "word_index[\"<UNK>\"] = 2  # unknown\n",
    "word_index[\"<UNUSED>\"] = 3\n",
    "\n",
    "reverse_word_index = dict([(value, key) for (key, value) in word_index.items()])\n",
    "\n",
    "def decode_review(text):\n",
    "    return ' '.join([reverse_word_index.get(i, '?') for i in text])"
   ]
  },
  {
   "cell_type": "markdown",
   "metadata": {},
   "source": [
    "Ahora podemos usar esta función para mostrar el texto de la reseña"
   ]
  },
  {
   "cell_type": "code",
   "execution_count": 7,
   "metadata": {},
   "outputs": [
    {
     "name": "stdout",
     "output_type": "stream",
     "text": [
      "<START> this film was just brilliant casting location scenery story direction everyone's really suited the part they played and you could just imagine being there robert <UNK> is an amazing actor and now the same being director <UNK> father came from the same scottish island as myself so i loved the fact there was a real connection with this film the witty remarks throughout the film were great it was just brilliant so much that i bought the film as soon as it was released for <UNK> and would recommend it to everyone to watch and the fly fishing was amazing really cried at the end it was so sad and you know what they say if you cry at a film it must have been good and this definitely was also <UNK> to the two little boy's that played the <UNK> of norman and paul they were just brilliant children are often left out of the <UNK> list i think because the stars that play them all grown up are such a big profile for the whole film but these children are amazing and should be praised for what they have done don't you think the whole story was so lovely because it was true and was someone's life after all that was shared with us all\n"
     ]
    }
   ],
   "source": [
    "print(decode_review(train_data[0]))"
   ]
  },
  {
   "cell_type": "markdown",
   "metadata": {},
   "source": [
    "A su vez, podemos darnos cuenta que las distintas reseñas pueden tener largos distintos, lo cual es un problema a la hora de ingresar a la red. Esto lo analizaremos en la siguiente sección"
   ]
  },
  {
   "cell_type": "markdown",
   "metadata": {},
   "source": [
    "***\n",
    "### Preparación de los datos\n",
    "Las reseñas (arrays de números) deben convertirse en tensores antes de ingresar a la red neuronal. Esta conversión puede realizarce de distintas maneras:  \n",
    "+ Convertir el array en vectores de 0s y 1s indicando la ocurrencia de la palabra. Por ejemplo la secuencia [3, 5] se convierte en un de tamaño 10000 con todos 0s excepto los indices 3 y 5 que valen 1. Luego, la primer capa de la red (Dense layer) que puede manejar punto flotante. Esta alternativa es exigente en memoria ya que requiere una matriz de num_words*num_reviews.\n",
    "+ Se puede igualar el tamaño de los arrays haciendo padding y luego crear un tensor de enteros de tamaño max_length*num_reviews. Se puede utilizar un capa embedding layer capaz de manejar estas dimensiones como primer capa.  \n",
    "\n",
    "Vamos a utilizar la segunda alternativa. Ya existe una función para realizar el padding llamada pad_sequences."
   ]
  },
  {
   "cell_type": "code",
   "execution_count": 8,
   "metadata": {},
   "outputs": [],
   "source": [
    "# Padding de train_data\n",
    "train_data = keras.preprocessing.sequence.pad_sequences(train_data,\n",
    "                                                        value=word_index[\"<PAD>\"],\n",
    "                                                        padding='post',\n",
    "                                                        maxlen=256)\n",
    "\n",
    "# Padding de test_data\n",
    "test_data = keras.preprocessing.sequence.pad_sequences(test_data,\n",
    "                                                       value=word_index[\"<PAD>\"],\n",
    "                                                       padding='post',\n",
    "                                                       maxlen=256)"
   ]
  },
  {
   "cell_type": "markdown",
   "metadata": {},
   "source": [
    "Ahora ya tenemos todo el set con el mismo tamaño y podemos arrancar a contruir el modelo.\n",
    "\n",
    "***\n",
    "### Armado del modelo\n",
    "La red neural se construye apilando capas. Esto requiere tomar algunas decisiones importantes respecto a la arquitectura: \n",
    "\n",
    "+ Cuantas capas debemos utilizar?\n",
    "+ Cuantas neuronas en cada capa oculta?\n",
    "\n",
    "Por los datos de entrada y las clasificaciones posibles vamos a proponer el siguiente modelo:"
   ]
  },
  {
   "cell_type": "code",
   "execution_count": 9,
   "metadata": {},
   "outputs": [
    {
     "name": "stdout",
     "output_type": "stream",
     "text": [
      "_________________________________________________________________\n",
      "Layer (type)                 Output Shape              Param #   \n",
      "=================================================================\n",
      "embedding (Embedding)        (None, None, 16)          160000    \n",
      "_________________________________________________________________\n",
      "global_average_pooling1d (Gl (None, 16)                0         \n",
      "_________________________________________________________________\n",
      "dense (Dense)                (None, 16)                272       \n",
      "_________________________________________________________________\n",
      "dense_1 (Dense)              (None, 1)                 17        \n",
      "=================================================================\n",
      "Total params: 160,289\n",
      "Trainable params: 160,289\n",
      "Non-trainable params: 0\n",
      "_________________________________________________________________\n"
     ]
    }
   ],
   "source": [
    "# input shape is the vocabulary count used for the movie reviews (10,000 words)\n",
    "vocab_size = 10000\n",
    "\n",
    "model = keras.Sequential()\n",
    "model.add(keras.layers.Embedding(vocab_size, 16))\n",
    "model.add(keras.layers.GlobalAveragePooling1D())\n",
    "model.add(keras.layers.Dense(16, activation=tf.nn.relu))\n",
    "model.add(keras.layers.Dense(1, activation=tf.nn.sigmoid))\n",
    "\n",
    "model.summary()"
   ]
  },
  {
   "cell_type": "markdown",
   "metadata": {},
   "source": [
    "+ La primer capa es de tipo Embedding layer. Recibe un vocubalario codificado con enteros y busca el vector embedding de cada indice de palabra. Estos vectores son aprendidos a medida que el modelo aprende. Se añade una dimensión al array de salida, siendo (batch, sequence, embedding). https://es.wikipedia.org/wiki/Word_embedding\n",
    "+ Luego, una capa GlobalAveragePooling1D devuelve un vector de tamaño fijo por cada ejemplo. Esto lo hace promediando la secuencia. Esto permite al modelo manejar datos de tamaños distintos de la forma más simple posible.\n",
    "+ Una capa de 16 neuronas fully-connected.\n",
    "+ La última capa está densamente conectada y esta compuesta por una única neurona. Usa la función activación sigmoid lo que devuelve un valor entre 0 o 1 que representa la probabilidad.  \n",
    "\n",
    "#### Neuronas ocultas\n",
    "El modelo anterior tiene dos capas intermedias u ocultas entre la capa de entrada y la de salida. El número de salidas (unidades, nodos o neuronas) es la dimensión espacial que puede representar la capa. En otras palabras, la libertad que tiene la red para aprender cosas internamente.  \n",
    "\n",
    "Si un modelo tiene muchas neuronas ocultas o capas, entonces la red puede aprender cosas más complejas. Sin embargo, la red se vuelve computacionalmente más costosa y puede llegar a aprender patrones no desiados (overfitting).  \n",
    "\n",
    "#### Loss function y optimizer\n",
    "Todos los modelos necesitan una loss function y un optimizer. Como esta es una clasificación binaria y la salida del modelo es una probabilidad, vamos a usar una loss function del tipo binary_crossentropy.  \n",
    "\n",
    "Esta no es la única alternativa, se puede utilizar otras como por ejemplo mean_squared_error. Pero generalmente, binary_crossentropy es mejor para trabajar con probabilidades. Mide la distancia entre las distribuciones probabilidad.\n"
   ]
  },
  {
   "cell_type": "code",
   "execution_count": 10,
   "metadata": {},
   "outputs": [],
   "source": [
    "model.compile(optimizer=tf.train.AdamOptimizer(),\n",
    "              loss='binary_crossentropy',\n",
    "              metrics=['accuracy'])"
   ]
  },
  {
   "cell_type": "markdown",
   "metadata": {},
   "source": [
    "***\n",
    "### Creación de un set de validación\n",
    "Cuando entrenamos, queremos corroborar la efectividad del modelo en datos que no haya analizado antes. Por esto creamos un set de validación separando 10000 ejemplos del set original de entrenamiento. Por que lo hacemos desde el set de entrenamiento? El objetivo es desarrollar y ajustar el modelo usando solo datos de entrenamiento, luego usamos los datos de test una sola vez para evaluar la precisión."
   ]
  },
  {
   "cell_type": "code",
   "execution_count": 11,
   "metadata": {},
   "outputs": [],
   "source": [
    "x_val = train_data[:10000]\n",
    "partial_x_train = train_data[10000:]\n",
    "\n",
    "y_val = train_labels[:10000]\n",
    "partial_y_train = train_labels[10000:]"
   ]
  },
  {
   "cell_type": "markdown",
   "metadata": {},
   "source": [
    "***\n",
    "### Entrenamiento del modelo\n",
    "Vamos a entrenar el modelo durante 40 épocas en mini-batches de 512 ejemplos. Esto significa 40 iteraciones de todos los ejemplos de los tensores x_train e y_train. Mientras se entrena, se puede monitorear la métricas del modelo en los 10000 ejemplos del set de validación. "
   ]
  },
  {
   "cell_type": "code",
   "execution_count": 12,
   "metadata": {},
   "outputs": [
    {
     "name": "stdout",
     "output_type": "stream",
     "text": [
      "Train on 15000 samples, validate on 10000 samples\n",
      "Epoch 1/40\n",
      "15000/15000 [==============================] - 1s 78us/step - loss: 0.6922 - acc: 0.5216 - val_loss: 0.6906 - val_acc: 0.6281\n",
      "Epoch 2/40\n",
      "15000/15000 [==============================] - 1s 56us/step - loss: 0.6875 - acc: 0.6833 - val_loss: 0.6844 - val_acc: 0.7247\n",
      "Epoch 3/40\n",
      "15000/15000 [==============================] - 1s 57us/step - loss: 0.6779 - acc: 0.7433 - val_loss: 0.6722 - val_acc: 0.7263\n",
      "Epoch 4/40\n",
      "15000/15000 [==============================] - 1s 57us/step - loss: 0.6598 - acc: 0.7652 - val_loss: 0.6518 - val_acc: 0.7450\n",
      "Epoch 5/40\n",
      "15000/15000 [==============================] - 1s 60us/step - loss: 0.6324 - acc: 0.7845 - val_loss: 0.6222 - val_acc: 0.7783\n",
      "Epoch 6/40\n",
      "15000/15000 [==============================] - 1s 55us/step - loss: 0.5968 - acc: 0.8054 - val_loss: 0.5870 - val_acc: 0.7989\n",
      "Epoch 7/40\n",
      "15000/15000 [==============================] - 1s 55us/step - loss: 0.5554 - acc: 0.8240 - val_loss: 0.5483 - val_acc: 0.8117\n",
      "Epoch 8/40\n",
      "15000/15000 [==============================] - 1s 57us/step - loss: 0.5121 - acc: 0.8411 - val_loss: 0.5094 - val_acc: 0.8259\n",
      "Epoch 9/40\n",
      "15000/15000 [==============================] - 1s 58us/step - loss: 0.4703 - acc: 0.8503 - val_loss: 0.4729 - val_acc: 0.8372\n",
      "Epoch 10/40\n",
      "15000/15000 [==============================] - 1s 60us/step - loss: 0.4314 - acc: 0.8651 - val_loss: 0.4409 - val_acc: 0.8449\n",
      "Epoch 11/40\n",
      "15000/15000 [==============================] - 1s 57us/step - loss: 0.3975 - acc: 0.8749 - val_loss: 0.4154 - val_acc: 0.8510\n",
      "Epoch 12/40\n",
      "15000/15000 [==============================] - 1s 59us/step - loss: 0.3682 - acc: 0.8827 - val_loss: 0.3908 - val_acc: 0.8572\n",
      "Epoch 13/40\n",
      "15000/15000 [==============================] - 1s 56us/step - loss: 0.3422 - acc: 0.8895 - val_loss: 0.3726 - val_acc: 0.8641\n",
      "Epoch 14/40\n",
      "15000/15000 [==============================] - 1s 58us/step - loss: 0.3203 - acc: 0.8953 - val_loss: 0.3564 - val_acc: 0.8680\n",
      "Epoch 15/40\n",
      "15000/15000 [==============================] - 1s 60us/step - loss: 0.3014 - acc: 0.8993 - val_loss: 0.3436 - val_acc: 0.8718\n",
      "Epoch 16/40\n",
      "15000/15000 [==============================] - 1s 56us/step - loss: 0.2852 - acc: 0.9027 - val_loss: 0.3331 - val_acc: 0.8739\n",
      "Epoch 17/40\n",
      "15000/15000 [==============================] - 1s 57us/step - loss: 0.2699 - acc: 0.9098 - val_loss: 0.3242 - val_acc: 0.8770\n",
      "Epoch 18/40\n",
      "15000/15000 [==============================] - 1s 56us/step - loss: 0.2566 - acc: 0.9143 - val_loss: 0.3166 - val_acc: 0.8794\n",
      "Epoch 19/40\n",
      "15000/15000 [==============================] - 1s 60us/step - loss: 0.2445 - acc: 0.9175 - val_loss: 0.3103 - val_acc: 0.8804\n",
      "Epoch 20/40\n",
      "15000/15000 [==============================] - 1s 59us/step - loss: 0.2338 - acc: 0.9214 - val_loss: 0.3053 - val_acc: 0.8818\n",
      "Epoch 21/40\n",
      "15000/15000 [==============================] - 1s 60us/step - loss: 0.2234 - acc: 0.9247 - val_loss: 0.3008 - val_acc: 0.8810\n",
      "Epoch 22/40\n",
      "15000/15000 [==============================] - 1s 57us/step - loss: 0.2139 - acc: 0.9279 - val_loss: 0.2974 - val_acc: 0.8825\n",
      "Epoch 23/40\n",
      "15000/15000 [==============================] - 1s 58us/step - loss: 0.2053 - acc: 0.9305 - val_loss: 0.2947 - val_acc: 0.8832\n",
      "Epoch 24/40\n",
      "15000/15000 [==============================] - 1s 62us/step - loss: 0.1968 - acc: 0.9343 - val_loss: 0.2914 - val_acc: 0.8839\n",
      "Epoch 25/40\n",
      "15000/15000 [==============================] - 1s 59us/step - loss: 0.1891 - acc: 0.9383 - val_loss: 0.2894 - val_acc: 0.8845\n",
      "Epoch 26/40\n",
      "15000/15000 [==============================] - 1s 58us/step - loss: 0.1817 - acc: 0.9407 - val_loss: 0.2882 - val_acc: 0.8843\n",
      "Epoch 27/40\n",
      "15000/15000 [==============================] - 1s 61us/step - loss: 0.1753 - acc: 0.9437 - val_loss: 0.2870 - val_acc: 0.8845\n",
      "Epoch 28/40\n",
      "15000/15000 [==============================] - 1s 60us/step - loss: 0.1686 - acc: 0.9465 - val_loss: 0.2859 - val_acc: 0.8854\n",
      "Epoch 29/40\n",
      "15000/15000 [==============================] - 1s 59us/step - loss: 0.1624 - acc: 0.9488 - val_loss: 0.2853 - val_acc: 0.8861\n",
      "Epoch 30/40\n",
      "15000/15000 [==============================] - 1s 61us/step - loss: 0.1569 - acc: 0.9501 - val_loss: 0.2854 - val_acc: 0.8854\n",
      "Epoch 31/40\n",
      "15000/15000 [==============================] - 1s 60us/step - loss: 0.1508 - acc: 0.9535 - val_loss: 0.2856 - val_acc: 0.8857\n",
      "Epoch 32/40\n",
      "15000/15000 [==============================] - 1s 62us/step - loss: 0.1458 - acc: 0.9558 - val_loss: 0.2863 - val_acc: 0.8868\n",
      "Epoch 33/40\n",
      "15000/15000 [==============================] - 1s 60us/step - loss: 0.1403 - acc: 0.9578 - val_loss: 0.2870 - val_acc: 0.8865\n",
      "Epoch 34/40\n",
      "15000/15000 [==============================] - 1s 61us/step - loss: 0.1355 - acc: 0.9600 - val_loss: 0.2877 - val_acc: 0.8869\n",
      "Epoch 35/40\n",
      "15000/15000 [==============================] - 1s 61us/step - loss: 0.1311 - acc: 0.9614 - val_loss: 0.2887 - val_acc: 0.8869\n",
      "Epoch 36/40\n",
      "15000/15000 [==============================] - 1s 62us/step - loss: 0.1261 - acc: 0.9647 - val_loss: 0.2904 - val_acc: 0.8862\n",
      "Epoch 37/40\n",
      "15000/15000 [==============================] - 1s 60us/step - loss: 0.1219 - acc: 0.9653 - val_loss: 0.2923 - val_acc: 0.8865\n",
      "Epoch 38/40\n",
      "15000/15000 [==============================] - 1s 64us/step - loss: 0.1183 - acc: 0.9665 - val_loss: 0.2933 - val_acc: 0.8855\n",
      "Epoch 39/40\n",
      "15000/15000 [==============================] - 1s 64us/step - loss: 0.1136 - acc: 0.9685 - val_loss: 0.2953 - val_acc: 0.8859\n",
      "Epoch 40/40\n",
      "15000/15000 [==============================] - 1s 66us/step - loss: 0.1097 - acc: 0.9697 - val_loss: 0.2971 - val_acc: 0.8849\n"
     ]
    }
   ],
   "source": [
    "history = model.fit(partial_x_train,\n",
    "                    partial_y_train,\n",
    "                    epochs=40,\n",
    "                    batch_size=512,\n",
    "                    validation_data=(x_val, y_val),\n",
    "                    verbose=1)"
   ]
  },
  {
   "cell_type": "markdown",
   "metadata": {},
   "source": [
    "***\n",
    "### Evaluación del modelo\n",
    "Ahora veamos como funciona con el set de test."
   ]
  },
  {
   "cell_type": "code",
   "execution_count": 13,
   "metadata": {},
   "outputs": [
    {
     "name": "stdout",
     "output_type": "stream",
     "text": [
      "25000/25000 [==============================] - 1s 22us/step\n",
      "[0.31590844766139986, 0.87396]\n"
     ]
    }
   ],
   "source": [
    "results = model.evaluate(test_data, test_labels)\n",
    "\n",
    "print(results)"
   ]
  },
  {
   "cell_type": "markdown",
   "metadata": {},
   "source": [
    "Esta enfoque simple logra un 87% de precisión. Complejizando un poco el modelo se puede llegar a un 95%."
   ]
  },
  {
   "cell_type": "markdown",
   "metadata": {},
   "source": [
    "***\n",
    "### Creación de gráfico de precisión y error en el tiempo\n",
    "model.fit() devuelve un objeto History un diccionario con toda la información de todo lo que sucedió en el entrenamiento. \n"
   ]
  },
  {
   "cell_type": "code",
   "execution_count": 15,
   "metadata": {},
   "outputs": [
    {
     "data": {
      "text/plain": [
       "dict_keys(['val_loss', 'val_acc', 'loss', 'acc'])"
      ]
     },
     "execution_count": 15,
     "metadata": {},
     "output_type": "execute_result"
    }
   ],
   "source": [
    "history_dict = history.history\n",
    "history_dict.keys()"
   ]
  },
  {
   "cell_type": "markdown",
   "metadata": {},
   "source": [
    "Hay cuatro entradas. Una por cada métrica en entrenamiento y en validación. Podemos utilizar esto para graficar la comparación entre entrenamiento y vaidación de las métricas."
   ]
  },
  {
   "cell_type": "code",
   "execution_count": 20,
   "metadata": {},
   "outputs": [
    {
     "data": {
      "text/plain": [
       "<matplotlib.legend.Legend at 0x15c09bfb278>"
      ]
     },
     "execution_count": 20,
     "metadata": {},
     "output_type": "execute_result"
    },
    {
     "data": {
      "image/png": "[encoded data removed]",
      "text/plain": [
       "<Figure size 1296x864 with 2 Axes>"
      ]
     },
     "metadata": {},
     "output_type": "display_data"
    }
   ],
   "source": [
    "acc = history.history['acc']\n",
    "val_acc = history.history['val_acc']\n",
    "loss = history.history['loss']\n",
    "val_loss = history.history['val_loss']\n",
    "\n",
    "epochs = range(1, len(acc) + 1)\n",
    "\n",
    "plt.figure(figsize=(18,12))\n",
    "plt.subplot(2,1,1)\n",
    "\n",
    "# \"bo\" is for \"blue dot\"\n",
    "plt.plot(epochs, loss, 'bo', label='Training loss')\n",
    "# b is for \"solid blue line\"\n",
    "plt.plot(epochs, val_loss, 'b', label='Validation loss')\n",
    "plt.title('Training and validation loss')\n",
    "plt.xlabel('Epochs')\n",
    "plt.ylabel('Loss')\n",
    "plt.legend()\n",
    "\n",
    "plt.subplot(2,1,2)\n",
    "acc_values = history_dict['acc']\n",
    "val_acc_values = history_dict['val_acc']\n",
    "\n",
    "plt.plot(epochs, acc, 'bo', label='Training acc')\n",
    "plt.plot(epochs, val_acc, 'b', label='Validation acc')\n",
    "plt.title('Training and validation accuracy')\n",
    "plt.xlabel('Epochs')\n",
    "plt.ylabel('Accuracy')\n",
    "plt.legend()"
   ]
  },
  {
   "cell_type": "markdown",
   "metadata": {},
   "source": [
    "Se puede ver como disminuye el error y mejora la precisión del entrenamiento a lo largo de todas las épocas. Esto es lógico si se utiliza un gradiente descendente de optimización.  \n",
    "\n",
    "Este no es el caso para el set de validación ya que se parece alcanzar un pico alrededor de las 20 épocas. Esto es un ejemplo de overfitting. El modelo funciona mejor con los datos del entrenamiento que con los datos de validación.  \n",
    "\n",
    "Para este caso particular se puede arreglar cortando en 20 épocas el entrenamiento. Más adelante veremos como hacer esto de forma automática.\n",
    "\n"
   ]
  },
  {
   "cell_type": "code",
   "execution_count": null,
   "metadata": {},
   "outputs": [],
   "source": []
  }
 ],
 "metadata": {
  "kernelspec": {
   "display_name": "Python 3",
   "language": "python",
   "name": "python3"
  },
  "language_info": {
   "codemirror_mode": {
    "name": "ipython",
    "version": 3
   },
   "file_extension": ".py",
   "mimetype": "text/x-python",
   "name": "python",
   "nbconvert_exporter": "python",
   "pygments_lexer": "ipython3",
   "version": "3.6.5"
  }
 },
 "nbformat": 4,
 "nbformat_minor": 2
}
